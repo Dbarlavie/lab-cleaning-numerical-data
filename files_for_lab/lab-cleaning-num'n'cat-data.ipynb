{
 "cells": [
  {
   "cell_type": "code",
   "execution_count": null,
   "id": "5267c152",
   "metadata": {},
   "outputs": [],
   "source": [
    "import pandas as pd\n",
    "import seaborn as sns\n",
    "import matplotlib.pyplot as plt\n",
    "import numpy as np"
   ]
  },
  {
   "cell_type": "code",
   "execution_count": null,
   "id": "0c1a04a4",
   "metadata": {},
   "outputs": [],
   "source": [
    "data = pd.read_csv('we_fn_use_c_marketing_customer_value_analysis.csv')\n",
    "display(data.shape)\n",
    "data.head()"
   ]
  },
  {
   "cell_type": "code",
   "execution_count": null,
   "id": "a2159b23",
   "metadata": {},
   "outputs": [],
   "source": [
    "data.columns = data.columns.str.lower()\n",
    "data.columns = data.columns.str.replace(\" \", \"_\")\n",
    "data.head()"
   ]
  },
  {
   "cell_type": "code",
   "execution_count": null,
   "id": "5f1d831e",
   "metadata": {},
   "outputs": [],
   "source": [
    "data['effective_to_date'] = pd.to_datetime(data.effective_to_date,format=\"%Y-%M-%D\")\n",
    "data.head()"
   ]
  },
  {
   "cell_type": "code",
   "execution_count": null,
   "id": "f6ca93d1",
   "metadata": {},
   "outputs": [],
   "source": [
    "data['effective_to_date'].dtype"
   ]
  },
  {
   "cell_type": "code",
   "execution_count": null,
   "id": "f10d151d",
   "metadata": {},
   "outputs": [],
   "source": [
    "numerical_df = data.select_dtypes(np.number)\n",
    "numerical_df.head()"
   ]
  },
  {
   "cell_type": "code",
   "execution_count": null,
   "id": "4a58c50d",
   "metadata": {},
   "outputs": [],
   "source": [
    "numerical_df.nunique()"
   ]
  },
  {
   "cell_type": "code",
   "execution_count": null,
   "id": "d1065234",
   "metadata": {},
   "outputs": [],
   "source": [
    "#dataframe understanding: \n",
    "# discrete columns : monthly_premium_auto, months_since_last_claim, months_since_policy_inception, number_of_open_complaints, number_of_policies\n",
    "# continuous columns : income, customer_lifetime_value, total_claim_amount "
   ]
  },
  {
   "cell_type": "code",
   "execution_count": null,
   "id": "7e026c10",
   "metadata": {},
   "outputs": [],
   "source": [
    "numerical_df.monthly_premium_auto.value_counts()"
   ]
  },
  {
   "cell_type": "code",
   "execution_count": null,
   "id": "b5c954ee",
   "metadata": {},
   "outputs": [],
   "source": [
    "numerical_df.nunique()/len(numerical_df)"
   ]
  },
  {
   "cell_type": "code",
   "execution_count": null,
   "id": "28488db8",
   "metadata": {},
   "outputs": [],
   "source": [
    "def separate_numerical_columns(df):\n",
    "    # Calculate the ratio of unique values to the total number of rows\n",
    "    unique_ratio = df.nunique() / len(df)\n",
    "    # Filter columns based on the condition\n",
    "    continuous_columns = unique_ratio[unique_ratio > 0.05].index\n",
    "    discrete_columns = unique_ratio[unique_ratio <= 0.05].index\n",
    "    # Create new dataframes for discrete and continuous columns\n",
    "    continuous_df = df[continuous_columns]\n",
    "    discrete_df = df[discrete_columns]\n",
    "    \n",
    "    return continuous_df, discrete_df\n",
    "\n",
    "continuous_df, discrete_df = separate_numerical_columns(numerical_df)"
   ]
  },
  {
   "cell_type": "code",
   "execution_count": null,
   "id": "50512a23",
   "metadata": {},
   "outputs": [],
   "source": [
    "print(f\"Continuous columns shape: {continuous_df.shape}\")\n",
    "print(f\"Discrete columns shape: {discrete_df.shape}\")"
   ]
  },
  {
   "cell_type": "code",
   "execution_count": null,
   "id": "43397f26",
   "metadata": {},
   "outputs": [],
   "source": [
    "continuous_df.head()"
   ]
  },
  {
   "cell_type": "code",
   "execution_count": null,
   "id": "018867f7",
   "metadata": {},
   "outputs": [],
   "source": [
    "discrete_df.head()"
   ]
  },
  {
   "cell_type": "code",
   "execution_count": null,
   "id": "22333fb7",
   "metadata": {},
   "outputs": [],
   "source": [
    "correlations_matrix = numerical_df.corr()\n",
    "sns.heatmap(correlations_matrix, annot=True)\n",
    "plt.show()"
   ]
  },
  {
   "cell_type": "code",
   "execution_count": null,
   "id": "b3525b10",
   "metadata": {},
   "outputs": [],
   "source": [
    "# total_claim_amount is impacted by custemor lifetime value and the monthly premium auto. \n",
    "# additionally monthly premium auto is correlated to custemor lifetime value, which will probably skew the model "
   ]
  },
  {
   "cell_type": "code",
   "execution_count": null,
   "id": "4f89c620",
   "metadata": {},
   "outputs": [],
   "source": [
    "def plots(df):\n",
    "    for column in continuous_df.columns:\n",
    "        sns.boxplot(x=column, data=continuous_df)\n",
    "        plt.title(f'Distribution of {column} (continuous - box plot)')\n",
    "        plt.show()\n",
    "    for column in discrete_df.columns:\n",
    "        sns.displot(x=column, data=discrete_df, bins=50, kde=True)\n",
    "        plt.title(f'Distribution of {column} (discrete - displot)')\n",
    "        plt.show()"
   ]
  },
  {
   "cell_type": "code",
   "execution_count": null,
   "id": "8f7b549f",
   "metadata": {},
   "outputs": [],
   "source": [
    "plots(numerical_df)"
   ]
  },
  {
   "cell_type": "code",
   "execution_count": null,
   "id": "849020b2",
   "metadata": {},
   "outputs": [],
   "source": [
    "# There are outliers in the continuous columns - total claim amount and custemor lifetime value. \n",
    "# There are outliers in the descrete columns - monthly premium auto and number of open complaints.  "
   ]
  },
  {
   "cell_type": "code",
   "execution_count": null,
   "id": "9c30792d",
   "metadata": {},
   "outputs": [],
   "source": [
    "display(data['total_claim_amount'].value_counts(dropna=False))"
   ]
  },
  {
   "cell_type": "code",
   "execution_count": null,
   "id": "eea88e84",
   "metadata": {},
   "outputs": [],
   "source": [
    "continuous_df.describe()"
   ]
  },
  {
   "cell_type": "code",
   "execution_count": null,
   "id": "ed28ebed",
   "metadata": {},
   "outputs": [],
   "source": [
    "continuous_df.isna().sum()"
   ]
  },
  {
   "cell_type": "code",
   "execution_count": null,
   "id": "41f498f8",
   "metadata": {},
   "outputs": [],
   "source": [
    "outliers_df = numerical_df[['monthly_premium_auto','income', 'total_claim_amount','customer_lifetime_value']]\n",
    "outliers_df.describe().T"
   ]
  },
  {
   "cell_type": "code",
   "execution_count": null,
   "id": "01c6307d",
   "metadata": {},
   "outputs": [],
   "source": [
    "clt_labels = ['Very Low','Low', 'Moderate', 'High', 'Very High']\n",
    "numerical_df['clt_categories'] = pd.cut(numerical_df['customer_lifetime_value'],5,labels=clt_labels)"
   ]
  },
  {
   "cell_type": "code",
   "execution_count": null,
   "id": "a7450032",
   "metadata": {},
   "outputs": [],
   "source": [
    "numerical_df.clt_categories.value_counts()"
   ]
  },
  {
   "cell_type": "code",
   "execution_count": null,
   "id": "aa39ec17",
   "metadata": {},
   "outputs": [],
   "source": [
    "numerical_df.loc[numerical_df['clt_categories'] == numerical_df['clt_categories'].max()]"
   ]
  },
  {
   "cell_type": "code",
   "execution_count": null,
   "id": "f546fc82",
   "metadata": {},
   "outputs": [],
   "source": [
    "# the customer_lifetime_value outliers are very few and versitile , we decided to keep them"
   ]
  },
  {
   "cell_type": "code",
   "execution_count": null,
   "id": "405f5284",
   "metadata": {},
   "outputs": [],
   "source": [
    "numerical_df['income'].hist(bins=10)"
   ]
  },
  {
   "cell_type": "code",
   "execution_count": null,
   "id": "0ffbb056",
   "metadata": {},
   "outputs": [],
   "source": [
    "# the income STD (and plot show) is aldo vastly different and the big amount of zero's are worth filling with the mean"
   ]
  },
  {
   "cell_type": "code",
   "execution_count": null,
   "id": "f4d14e04",
   "metadata": {},
   "outputs": [],
   "source": [
    "numericals_with_income = numerical_df[numerical_df['income']>0]\n",
    "numericals_with_income.shape"
   ]
  },
  {
   "cell_type": "code",
   "execution_count": null,
   "id": "a73eac69",
   "metadata": {},
   "outputs": [],
   "source": [
    "numericals_with_income.head()"
   ]
  },
  {
   "cell_type": "code",
   "execution_count": null,
   "id": "c39a1e64",
   "metadata": {},
   "outputs": [],
   "source": [
    "from sklearn.neighbors import KNeighborsClassifier\n",
    "from sklearn.preprocessing import MinMaxScaler"
   ]
  },
  {
   "cell_type": "code",
   "execution_count": null,
   "id": "f5e7ff70",
   "metadata": {},
   "outputs": [],
   "source": [
    "X_income = numericals_with_income.drop(['income','total_claim_amount','clt_categories'],axis=1) \n",
    "y_income = numericals_with_income['income']"
   ]
  },
  {
   "cell_type": "code",
   "execution_count": null,
   "id": "052dc9f6",
   "metadata": {},
   "outputs": [],
   "source": [
    "X_normalized_income = pd.DataFrame(MinMaxScaler().fit_transform(X_income), columns=X_income.columns)\n",
    "X_normalized_income"
   ]
  },
  {
   "cell_type": "code",
   "execution_count": null,
   "id": "fba3c8e1",
   "metadata": {},
   "outputs": [],
   "source": [
    "display(X_normalized_income.shape)\n",
    "display(y_income.shape)"
   ]
  },
  {
   "cell_type": "code",
   "execution_count": null,
   "id": "5d263725",
   "metadata": {},
   "outputs": [],
   "source": [
    "X_all = numericals_with_income.drop(['income','total_claim_amount','clt_categories'],axis=1)\n",
    "X_normalized_all = pd.DataFrame(MinMaxScaler().fit_transform(X_all), columns=X_all.columns)\n",
    "y_all = numerical_df['income']"
   ]
  },
  {
   "cell_type": "code",
   "execution_count": null,
   "id": "16ee3548",
   "metadata": {},
   "outputs": [],
   "source": [
    "KNN = KNeighborsClassifier(n_neighbors=3)\n",
    "KNN.fit(X_normalized_income,y_income)\n",
    "KNN.score(X_normalized_income,y_income)"
   ]
  },
  {
   "cell_type": "code",
   "execution_count": null,
   "id": "468fa142",
   "metadata": {},
   "outputs": [],
   "source": [
    "predicted_income = pd.Series(KNN.predict(X_normalized_all),name='predicted_income')"
   ]
  },
  {
   "cell_type": "code",
   "execution_count": null,
   "id": "1bcf26ab",
   "metadata": {},
   "outputs": [],
   "source": [
    "predicted_income.value_counts(dropna=False)"
   ]
  },
  {
   "cell_type": "code",
   "execution_count": null,
   "id": "a7956cc9",
   "metadata": {},
   "outputs": [],
   "source": [
    "numericals_with_income['income'].value_counts(dropna=False)"
   ]
  },
  {
   "cell_type": "code",
   "execution_count": null,
   "id": "fbc16dd5",
   "metadata": {},
   "outputs": [],
   "source": [
    "# the prediction is not very good, therfore we keep the predicted column for future model creation\n",
    "# and fill in the prediction values where the value is 0"
   ]
  },
  {
   "cell_type": "code",
   "execution_count": null,
   "id": "8c7bb910",
   "metadata": {},
   "outputs": [],
   "source": [
    "numerical_df = pd.concat([numerical_df,predicted_income],axis=1)"
   ]
  },
  {
   "cell_type": "code",
   "execution_count": null,
   "id": "5647dcde",
   "metadata": {},
   "outputs": [],
   "source": [
    "numerical_df.shape"
   ]
  },
  {
   "cell_type": "code",
   "execution_count": null,
   "id": "82893b8f",
   "metadata": {},
   "outputs": [],
   "source": [
    "numerical_df['final_income'] =  np.where(numerical_df['income']==0, numerical_df['predicted_income'], numerical_df['income'])\n",
    "numerical_df[['income','predicted_income','final_income']].head()"
   ]
  },
  {
   "cell_type": "code",
   "execution_count": null,
   "id": "271e5077",
   "metadata": {},
   "outputs": [],
   "source": []
  },
  {
   "cell_type": "code",
   "execution_count": null,
   "id": "1689899a",
   "metadata": {},
   "outputs": [],
   "source": [
    "# numerical_df.to_csv('C:\\\\Users\\\\Dana\\\\IH_Labs\\\\lab-cleaning-numerical-data\\\\numerical_df.csv', index=False)"
   ]
  },
  {
   "cell_type": "code",
   "execution_count": null,
   "id": "4c59316c",
   "metadata": {},
   "outputs": [],
   "source": []
  },
  {
   "cell_type": "markdown",
   "id": "b2bc9ac6",
   "metadata": {},
   "source": [
    "## Lab | Cleaning categorical data"
   ]
  },
  {
   "cell_type": "code",
   "execution_count": null,
   "id": "d3abe29f",
   "metadata": {},
   "outputs": [],
   "source": [
    "data.head()"
   ]
  },
  {
   "cell_type": "code",
   "execution_count": null,
   "id": "87adf573",
   "metadata": {},
   "outputs": [],
   "source": [
    "categorical_df = data.select_dtypes('object')\n",
    "categorical_df.head()"
   ]
  },
  {
   "cell_type": "code",
   "execution_count": null,
   "id": "648c8396",
   "metadata": {},
   "outputs": [],
   "source": [
    "categorical_df.head()"
   ]
  },
  {
   "cell_type": "code",
   "execution_count": null,
   "id": "28d48bc7",
   "metadata": {},
   "outputs": [],
   "source": [
    "categorical_df.nunique()"
   ]
  },
  {
   "cell_type": "code",
   "execution_count": null,
   "id": "8e5a6ed6",
   "metadata": {},
   "outputs": [],
   "source": [
    "categorical_df.isna().sum()/len(categorical_df)"
   ]
  },
  {
   "cell_type": "code",
   "execution_count": null,
   "id": "16094d00",
   "metadata": {},
   "outputs": [],
   "source": [
    "display(categorical_df['state'].value_counts(dropna=False))"
   ]
  },
  {
   "cell_type": "code",
   "execution_count": null,
   "id": "426a6bb5",
   "metadata": {},
   "outputs": [],
   "source": [
    "display(categorical_df['response'].value_counts(dropna=False))"
   ]
  },
  {
   "cell_type": "code",
   "execution_count": null,
   "id": "3ae3b481",
   "metadata": {},
   "outputs": [],
   "source": [
    "display(categorical_df['coverage'].value_counts(dropna=False))"
   ]
  },
  {
   "cell_type": "code",
   "execution_count": null,
   "id": "66203a2e",
   "metadata": {},
   "outputs": [],
   "source": [
    "display(categorical_df['education'].value_counts(dropna=False))"
   ]
  },
  {
   "cell_type": "code",
   "execution_count": null,
   "id": "b26f9a7f",
   "metadata": {},
   "outputs": [],
   "source": [
    "display(categorical_df['employmentstatus'].value_counts(dropna=False))"
   ]
  },
  {
   "cell_type": "code",
   "execution_count": null,
   "id": "45d764a3",
   "metadata": {},
   "outputs": [],
   "source": [
    "display(categorical_df['gender'].value_counts(dropna=False))"
   ]
  },
  {
   "cell_type": "code",
   "execution_count": null,
   "id": "2a329aa4",
   "metadata": {},
   "outputs": [],
   "source": [
    "display(categorical_df['location_code'].value_counts(dropna=False))"
   ]
  },
  {
   "cell_type": "code",
   "execution_count": null,
   "id": "756be9a2",
   "metadata": {},
   "outputs": [],
   "source": [
    "display(categorical_df['marital_status'].value_counts(dropna=False))"
   ]
  },
  {
   "cell_type": "code",
   "execution_count": null,
   "id": "9c9252e6",
   "metadata": {},
   "outputs": [],
   "source": [
    "display(categorical_df['policy_type'].value_counts(dropna=False))"
   ]
  },
  {
   "cell_type": "code",
   "execution_count": null,
   "id": "020555c1",
   "metadata": {},
   "outputs": [],
   "source": [
    "display(categorical_df['policy'].value_counts(dropna=False))"
   ]
  },
  {
   "cell_type": "code",
   "execution_count": null,
   "id": "f692b2a8",
   "metadata": {},
   "outputs": [],
   "source": [
    "display(categorical_df['renew_offer_type'].value_counts(dropna=False))"
   ]
  },
  {
   "cell_type": "code",
   "execution_count": null,
   "id": "66287345",
   "metadata": {},
   "outputs": [],
   "source": [
    "display(categorical_df['sales_channel'].value_counts(dropna=False))"
   ]
  },
  {
   "cell_type": "code",
   "execution_count": null,
   "id": "df6c8aa7",
   "metadata": {},
   "outputs": [],
   "source": [
    "display(categorical_df['vehicle_class'].value_counts(dropna=False))"
   ]
  },
  {
   "cell_type": "code",
   "execution_count": null,
   "id": "034d5826",
   "metadata": {},
   "outputs": [],
   "source": [
    "display(categorical_df['vehicle_size'].value_counts(dropna=False))"
   ]
  },
  {
   "cell_type": "code",
   "execution_count": null,
   "id": "4a6fe27c",
   "metadata": {},
   "outputs": [],
   "source": [
    "categorical_df.dtypes\n",
    "#all column are of object type as expected for a dataframe where numical columns were extruded"
   ]
  },
  {
   "cell_type": "code",
   "execution_count": null,
   "id": "8c145354",
   "metadata": {},
   "outputs": [],
   "source": [
    "categorical_df['vehicle_class'] = categorical_df['vehicle_class'].replace({'Sports Car':'Luxury', 'Luxury SUV':'Luxury', 'Luxury Car':'Luxury'})\n",
    "#vehicle_class column has a small number of 'luxury cars' which can be combined in the interest of having less options and more clarity\n",
    "display(categorical_df['vehicle_class'].value_counts(dropna=False))"
   ]
  },
  {
   "cell_type": "code",
   "execution_count": null,
   "id": "871b69ba",
   "metadata": {},
   "outputs": [],
   "source": [
    "# when compare policy_type and policy, it is clear that the policy column sums up to the policy types column accordingly.\n",
    "# therfor, it might not be neccesary to use the 'policy'table(i.e. drop the dolumn) as the information is too detailed. "
   ]
  },
  {
   "cell_type": "code",
   "execution_count": null,
   "id": "d0c20573",
   "metadata": {},
   "outputs": [],
   "source": [
    "display(categorical_df[['policy_type','policy']].value_counts(dropna=False))"
   ]
  },
  {
   "cell_type": "code",
   "execution_count": null,
   "id": "944438fe",
   "metadata": {},
   "outputs": [],
   "source": [
    "categorical_df == categorical_df.drop('policy', axis=1, inplace=True)\n",
    "categorical_df.head()"
   ]
  },
  {
   "cell_type": "code",
   "execution_count": null,
   "id": "613b29f9",
   "metadata": {},
   "outputs": [],
   "source": [
    "# categorical_df.to_csv('C:\\\\Users\\\\Dana\\\\IH_Labs\\\\lab-cleaning-numerical-data\\\\categorical_df.csv', index=False)"
   ]
  },
  {
   "cell_type": "markdown",
   "id": "f9b3b1ff",
   "metadata": {},
   "source": [
    "## Lab | Feature extraction"
   ]
  },
  {
   "cell_type": "code",
   "execution_count": null,
   "id": "f0fbb8b8",
   "metadata": {},
   "outputs": [],
   "source": [
    "categorical_df = categorical_df.drop(['customer'],axis=1) \n",
    "categorical_df"
   ]
  },
  {
   "cell_type": "code",
   "execution_count": null,
   "id": "04e9cd86",
   "metadata": {},
   "outputs": [],
   "source": [
    "def cat_plots(df):\n",
    "    for column in categorical_df.columns:\n",
    "        sns.countplot(x=column, data=categorical_df)\n",
    "        plt.show()\n",
    "cat_plots(categorical_df)"
   ]
  },
  {
   "cell_type": "code",
   "execution_count": null,
   "id": "b6a3dd4c",
   "metadata": {},
   "outputs": [],
   "source": [
    "# Columns to drop :\n",
    "# Policy is dropped (also in previos lab), the policy type holds the totals, so it is redundant detailing. \n",
    "# Customer is not neccesary to predict the target."
   ]
  },
  {
   "cell_type": "code",
   "execution_count": null,
   "id": "6d426d68",
   "metadata": {},
   "outputs": [],
   "source": [
    "con_data= pd.concat([categorical_df,numerical_df],axis=1)\n",
    "con_data['effective_to_date']=data['effective_to_date']\n",
    "data['month']=data['effective_to_date'].dt.month\n",
    "con_data['month']=data['month']\n",
    "data['weekday']=data['effective_to_date'].dt.weekday\n",
    "con_data['weekday']=data['weekday']\n",
    "con_data"
   ]
  },
  {
   "cell_type": "code",
   "execution_count": null,
   "id": "ed996ab5",
   "metadata": {},
   "outputs": [],
   "source": [
    "sns.countplot(x='month', data=con_data)\n",
    "plt.show()"
   ]
  },
  {
   "cell_type": "code",
   "execution_count": null,
   "id": "b037b206",
   "metadata": {},
   "outputs": [],
   "source": [
    "sns.countplot(x='weekday', data=con_data)\n",
    "plt.show()"
   ]
  },
  {
   "cell_type": "code",
   "execution_count": null,
   "id": "a9bf1a9e",
   "metadata": {},
   "outputs": [],
   "source": [
    "# Comparitvly January is more active than February. \n",
    "# most contracts started on monday, second higher active day is Saturday. \n"
   ]
  },
  {
   "cell_type": "markdown",
   "id": "cfbc833a",
   "metadata": {},
   "source": [
    "#con_data.to_csv('C:\\\\Users\\\\Dana\\\\IH_Labs\\\\lab-cleaning-numerical-data\\\\con_data.csv', index=False)"
   ]
  },
  {
   "cell_type": "markdown",
   "id": "62acfc25",
   "metadata": {},
   "source": [
    "## Lab Comparing Regression Models\n"
   ]
  },
  {
   "cell_type": "code",
   "execution_count": null,
   "id": "e3a46474",
   "metadata": {},
   "outputs": [],
   "source": [
    "y = con_data['target (total_claim_amount)']\n",
    "X = con_data['features']\n"
   ]
  }
 ],
 "metadata": {
  "kernelspec": {
   "display_name": "Python 3 (ipykernel)",
   "language": "python",
   "name": "python3"
  },
  "language_info": {
   "codemirror_mode": {
    "name": "ipython",
    "version": 3
   },
   "file_extension": ".py",
   "mimetype": "text/x-python",
   "name": "python",
   "nbconvert_exporter": "python",
   "pygments_lexer": "ipython3",
   "version": "3.11.5"
  }
 },
 "nbformat": 4,
 "nbformat_minor": 5
}
